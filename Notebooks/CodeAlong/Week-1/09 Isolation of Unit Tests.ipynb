{
 "cells": [
  {
   "cell_type": "markdown",
   "id": "a2830a5776b51495",
   "metadata": {
    "lang": "en",
    "lines_to_next_cell": 2,
    "slideshow": {
     "slide_type": "slide"
    },
    "tags": [
     "slide"
    ]
   },
   "source": [
    "\n",
    "<img src=\"data:image/png;base64,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\"\n",
    "     style=\"display:block;margin:auto;width:5%\"/>\n",
    "<br>\n",
    "\n",
    "<div style=\"text-align:center; font-size:200%;\">\n",
    "  <b>Isolation of Unit Tests</b>\n",
    "</div>\n",
    "<br/>\n",
    "<div style=\"text-align:center; font-size:120%;\">Dr. Matthias Hölzl</div>\n",
    "<br/>\n",
    "<div style=\"text-align:center;\">Coding-Academy Munich</div>\n",
    "<br/>\n",
    "<!-- 09 Isolation of Unit Tests.ipynb -->\n",
    "<!-- slides/module_410_unit_testing/topic_160_test_isolation.cpp -->"
   ]
  },
  {
   "cell_type": "markdown",
   "id": "da5255f022d51a21",
   "metadata": {
    "lang": "en",
    "slideshow": {
     "slide_type": "subslide"
    },
    "tags": [
     "subslide"
    ]
   },
   "source": [
    "\n",
    "## Unit test\n",
    "\n",
    "- Tests a small piece of code (a \"unit\")\n",
    "- Runs quickly\n",
    "- *Is isolated*"
   ]
  },
  {
   "cell_type": "markdown",
   "id": "9a570fdb8d18b2d6",
   "metadata": {
    "lang": "en",
    "slideshow": {
     "slide_type": "subslide"
    },
    "tags": [
     "subslide"
    ]
   },
   "source": [
    "\n",
    "- A behavior?\n",
    "  - *Unit of behavior*\n",
    "  - Part of a scenario/use case/...\n",
    "  - Original intention of Kent Beck\n",
    "- A code component?\n",
    "  - *Unit of code*\n",
    "  - Often unit = class\n",
    "  - Widely held view in the literature"
   ]
  },
  {
   "cell_type": "markdown",
   "id": "f66900b874b37fe1",
   "metadata": {
    "lang": "en",
    "slideshow": {
     "slide_type": "subslide"
    },
    "tags": [
     "subslide"
    ]
   },
   "source": [
    "\n",
    "## What does \"isolated\" test mean?\n",
    "\n",
    "- No interaction between tests?\n",
    "  - Isolated test cases\n",
    "  - Classic unit tests (Detroit School, Kent Beck)\n",
    "- No interaction between the tested unit and the rest of the system?\n",
    "  - Dependencies are replaced by simple simulations (test doubles)\n",
    "  - London School"
   ]
  },
  {
   "cell_type": "markdown",
   "id": "b0b14fa8db1159a3",
   "metadata": {
    "lang": "en",
    "slideshow": {
     "slide_type": "slide"
    },
    "tags": [
     "slide"
    ]
   },
   "source": [
    "\n",
    "## Isolated test cases (Detroit School)\n",
    "\n",
    "- Each test case is independent of the others\n",
    "- Tests can be executed in any order\n",
    "- Tests can be executed in parallel"
   ]
  },
  {
   "cell_type": "markdown",
   "id": "99fc9da8a3be748c",
   "metadata": {
    "lang": "en",
    "slideshow": {
     "slide_type": "subslide"
    },
    "tags": [
     "subslide"
    ]
   },
   "source": [
    "\n",
    "### Counterexample: Non-isolated test cases"
   ]
  },
  {
   "cell_type": "code",
   "execution_count": null,
   "id": "a0ee650c342d197c",
   "metadata": {
    "slideshow": {
     "slide_type": "subslide"
    },
    "tags": [
     "subslide",
     "keep"
    ]
   },
   "outputs": [],
   "source": [
    "#include <iostream>"
   ]
  },
  {
   "cell_type": "code",
   "execution_count": null,
   "id": "65d3fb7c4c7d97af",
   "metadata": {
    "tags": [
     "keep"
    ]
   },
   "outputs": [],
   "source": [
    "void check(bool condition)\n",
    "{\n",
    "    if (!condition)\n",
    "    {\n",
    "        std::cerr << \"Test failed!\\n\";\n",
    "    }\n",
    "}"
   ]
  },
  {
   "cell_type": "code",
   "execution_count": null,
   "id": "2d06f0a9f375bc05",
   "metadata": {
    "slideshow": {
     "slide_type": "subslide"
    },
    "tags": [
     "subslide",
     "keep"
    ]
   },
   "outputs": [],
   "source": [
    "#include <chrono>\n",
    "#include <ctime>\n",
    "#include <iomanip>\n",
    "#include <iostream>\n",
    "#include <thread>"
   ]
  },
  {
   "cell_type": "code",
   "execution_count": null,
   "id": "f2229725508e4886",
   "metadata": {
    "tags": [
     "keep"
    ]
   },
   "outputs": [],
   "source": [
    "void print_time(std::string prefix, std::chrono::system_clock::time_point time_point)\n",
    "{\n",
    "    std::time_t time = std::chrono::system_clock::to_time_t(time_point);\n",
    "    std::tm* localTime = std::localtime(&time);\n",
    "    std::cout << prefix << std::put_time(localTime, \"%Y-%m-%d %H:%M:%S\") << '\\n';\n",
    "}"
   ]
  },
  {
   "cell_type": "code",
   "execution_count": null,
   "id": "3b9626549eb029de",
   "metadata": {
    "slideshow": {
     "slide_type": "subslide"
    },
    "tags": [
     "subslide"
    ]
   },
   "outputs": [],
   "source": []
  },
  {
   "cell_type": "code",
   "execution_count": null,
   "id": "cb2b2772fbc678e8",
   "metadata": {},
   "outputs": [],
   "source": []
  },
  {
   "cell_type": "code",
   "execution_count": null,
   "id": "c052eb5b2778c015",
   "metadata": {},
   "outputs": [],
   "source": []
  },
  {
   "cell_type": "code",
   "execution_count": null,
   "id": "cb28eac3d63af132",
   "metadata": {
    "slideshow": {
     "slide_type": "subslide"
    },
    "tags": [
     "subslide"
    ]
   },
   "outputs": [],
   "source": []
  },
  {
   "cell_type": "code",
   "execution_count": null,
   "id": "5ffe6484c8c19ea4",
   "metadata": {},
   "outputs": [],
   "source": []
  },
  {
   "cell_type": "markdown",
   "id": "d0a1536cec4b6301",
   "metadata": {
    "lang": "en",
    "slideshow": {
     "slide_type": "subslide"
    },
    "tags": [
     "subslide"
    ]
   },
   "source": [
    "\n",
    "## Reasons for non-isolated test cases\n",
    "\n",
    "- Mutable global state\n",
    "- Mutable external resources (files, databases, network, ...)"
   ]
  },
  {
   "cell_type": "markdown",
   "id": "136999f536c7ae6f",
   "metadata": {
    "lang": "en",
    "slideshow": {
     "slide_type": "slide"
    },
    "tags": [
     "slide"
    ]
   },
   "source": [
    "\n",
    "## Isolation of the tested unit\n",
    "\n",
    "- The tested unit is isolated from all other units\n",
    "- Test doubles for all dependencies"
   ]
  },
  {
   "cell_type": "markdown",
   "id": "04c60bef976d5d6d",
   "metadata": {
    "lang": "en",
    "slideshow": {
     "slide_type": "subslide"
    },
    "tags": [
     "subslide"
    ]
   },
   "source": [
    "\n",
    "### Counterexample: Non-isolated unit\n",
    "\n",
    "- Ticket office that sells tickets for events\n",
    "- Concrete class `Event` represents an event"
   ]
  },
  {
   "cell_type": "code",
   "execution_count": null,
   "id": "49293e9ed0c9a8e4",
   "metadata": {
    "slideshow": {
     "slide_type": "subslide"
    },
    "tags": [
     "keep",
     "subslide"
    ]
   },
   "outputs": [],
   "source": [
    "#include <iostream>\n",
    "#include <stdexcept>\n",
    "#include <string>"
   ]
  },
  {
   "cell_type": "code",
   "execution_count": null,
   "id": "d7412a08f525e4ae",
   "metadata": {
    "slideshow": {
     "slide_type": "subslide"
    },
    "tags": [
     "keep",
     "subslide"
    ]
   },
   "outputs": [],
   "source": [
    "namespace non_isolated\n",
    "{\n",
    "class Event\n",
    "{\n",
    "private:\n",
    "    std::string name{\"Unnamed Event\"};\n",
    "    int capacity{};\n",
    "\n",
    "public:\n",
    "    Event() = default;\n",
    "    Event(std::string name, int capacity) : name{name}, capacity{capacity} {}\n",
    "\n",
    "    std::string get_name() const { return name; }\n",
    "    int get_capacity() const { return capacity; }\n",
    "    void purchase(int num_tickets);\n",
    "};\n",
    "} // namespace non_isolated"
   ]
  },
  {
   "cell_type": "code",
   "execution_count": null,
   "id": "e1390259524f13c1",
   "metadata": {
    "slideshow": {
     "slide_type": "subslide"
    },
    "tags": [
     "keep",
     "subslide"
    ]
   },
   "outputs": [],
   "source": [
    "namespace non_isolated\n",
    "{\n",
    "void Event::purchase(int num_tickets)\n",
    "{\n",
    "    if (num_tickets > capacity)\n",
    "    {\n",
    "        throw std::runtime_error(\"Not enough capacity\");\n",
    "    }\n",
    "    capacity -= num_tickets;\n",
    "}\n",
    "} // namespace non_isolated"
   ]
  },
  {
   "cell_type": "code",
   "execution_count": null,
   "id": "f39a0b547b7bdd22",
   "metadata": {
    "slideshow": {
     "slide_type": "subslide"
    },
    "tags": [
     "keep",
     "subslide"
    ]
   },
   "outputs": [],
   "source": [
    "namespace non_isolated\n",
    "{\n",
    "class TicketOffice\n",
    "{\n",
    "private:\n",
    "    std::unordered_map<std::string, Event> events;\n",
    "\n",
    "public:\n",
    "    void add_event(Event event) { events[event.get_name()] = event; }\n",
    "    Event get_event(std::string event_name) { return events[event_name]; }\n",
    "    bool purchase_tickets(std::string event_name, int num_tickets);\n",
    "};\n",
    "} // namespace non_isolated"
   ]
  },
  {
   "cell_type": "code",
   "execution_count": null,
   "id": "33bf7f9e0ff0e0a3",
   "metadata": {
    "slideshow": {
     "slide_type": "subslide"
    },
    "tags": [
     "keep",
     "subslide"
    ]
   },
   "outputs": [],
   "source": [
    "namespace non_isolated\n",
    "{\n",
    "bool TicketOffice::purchase_tickets(std::string event_name, int num_tickets)\n",
    "{\n",
    "    if (events.find(event_name) != events.end())\n",
    "    {\n",
    "        try\n",
    "        {\n",
    "            events[event_name].purchase(num_tickets);\n",
    "            return true;\n",
    "        }\n",
    "        catch (const std::runtime_error& e)\n",
    "        {\n",
    "            std::cerr << \"Cannot purchase \" << num_tickets << \" tickets for \"\n",
    "                      << event_name << '\\n';\n",
    "            std::cerr << e.what() << '\\n';\n",
    "            return false;\n",
    "        }\n",
    "    }\n",
    "    return false;\n",
    "}\n",
    "} // namespace non_isolated"
   ]
  },
  {
   "cell_type": "code",
   "execution_count": null,
   "id": "323360fcac1ef865",
   "metadata": {
    "slideshow": {
     "slide_type": "subslide"
    },
    "tags": [
     "keep",
     "subslide"
    ]
   },
   "outputs": [],
   "source": [
    "namespace non_isolated\n",
    "{\n",
    "void test_purchase_tickets()\n",
    "{\n",
    "    TicketOffice ticket_office;\n",
    "    Event event(\"CppCon\", 100);\n",
    "    ticket_office.add_event(event);\n",
    "\n",
    "    bool result = ticket_office.purchase_tickets(\"CppCon\", 10);\n",
    "\n",
    "    check(result == true);\n",
    "    check(ticket_office.get_event(\"CppCon\").get_capacity() == 90);\n",
    "}\n",
    "} // namespace non_isolated"
   ]
  },
  {
   "cell_type": "code",
   "execution_count": null,
   "id": "0d01212c05f9fe6a",
   "metadata": {},
   "outputs": [],
   "source": []
  },
  {
   "cell_type": "code",
   "execution_count": null,
   "id": "4e4a41769eda3789",
   "metadata": {
    "slideshow": {
     "slide_type": "subslide"
    },
    "tags": [
     "keep",
     "subslide"
    ]
   },
   "outputs": [],
   "source": [
    "namespace isolated\n",
    "{\n",
    "class Event\n",
    "{\n",
    "public:\n",
    "    Event() = default;\n",
    "    Event(const Event&) = delete;\n",
    "    Event& operator=(const Event&) = delete;\n",
    "    Event(Event&&) = delete;\n",
    "    Event& operator=(Event&&) = delete;\n",
    "    virtual ~Event() = default;\n",
    "\n",
    "    virtual std::string get_name() const = 0;\n",
    "    virtual int get_capacity() const = 0;\n",
    "    virtual void purchase(int num_tickets) = 0;\n",
    "};\n",
    "} // namespace isolated"
   ]
  },
  {
   "cell_type": "code",
   "execution_count": null,
   "id": "53ddedff6105cc8a",
   "metadata": {
    "slideshow": {
     "slide_type": "subslide"
    },
    "tags": [
     "keep",
     "subslide"
    ]
   },
   "outputs": [],
   "source": [
    "namespace isolated\n",
    "{\n",
    "class ConcreteEvent : public Event\n",
    "{\n",
    "private:\n",
    "    std::string name{\"Unnamed Event\"};\n",
    "    int capacity{};\n",
    "\n",
    "public:\n",
    "    ConcreteEvent() = default;\n",
    "    ConcreteEvent(std::string name, int capacity) : name{name}, capacity{capacity} {}\n",
    "\n",
    "    std::string get_name() const override { return name; }\n",
    "    int get_capacity() const override { return capacity; }\n",
    "    void purchase(int num_tickets) override;\n",
    "};\n",
    "} // namespace isolated"
   ]
  },
  {
   "cell_type": "code",
   "execution_count": null,
   "id": "5e6375b74cfa406b",
   "metadata": {
    "slideshow": {
     "slide_type": "subslide"
    },
    "tags": [
     "keep",
     "subslide"
    ]
   },
   "outputs": [],
   "source": [
    "namespace isolated\n",
    "{\n",
    "void ConcreteEvent::purchase(int num_tickets)\n",
    "{\n",
    "    if (num_tickets > capacity)\n",
    "    {\n",
    "        throw std::runtime_error(\"Not enough capacity\");\n",
    "    }\n",
    "    capacity -= num_tickets;\n",
    "}\n",
    "} // namespace isolated"
   ]
  },
  {
   "cell_type": "code",
   "execution_count": null,
   "id": "dfa635a656e8723f",
   "metadata": {
    "slideshow": {
     "slide_type": "subslide"
    },
    "tags": [
     "keep",
     "subslide"
    ]
   },
   "outputs": [],
   "source": [
    "namespace isolated\n",
    "{\n",
    "class TicketOffice\n",
    "{\n",
    "private:\n",
    "    std::unordered_map<std::string, std::unique_ptr<Event>> events;\n",
    "\n",
    "public:\n",
    "    void add_event(std::unique_ptr<Event> event)\n",
    "    {\n",
    "        events[event->get_name()] = std::move(event);\n",
    "    }\n",
    "    Event& get_event(std::string event_name) { return *events.at(event_name); }\n",
    "    bool purchase_tickets(std::string event_name, int num_tickets);\n",
    "};\n",
    "} // namespace isolated"
   ]
  },
  {
   "cell_type": "code",
   "execution_count": null,
   "id": "069e406431bf9ee9",
   "metadata": {
    "slideshow": {
     "slide_type": "subslide"
    },
    "tags": [
     "keep",
     "subslide"
    ]
   },
   "outputs": [],
   "source": [
    "namespace isolated\n",
    "{\n",
    "bool TicketOffice::purchase_tickets(std::string event_name, int num_tickets)\n",
    "{\n",
    "    if (events.find(event_name) != events.end())\n",
    "    {\n",
    "        try\n",
    "        {\n",
    "            events.at(event_name)->purchase(num_tickets);\n",
    "            return true;\n",
    "        }\n",
    "        catch (const std::out_of_range& e)\n",
    "        {\n",
    "            std::cerr << event_name << \" not found\\n\";\n",
    "            std::cerr << e.what() << '\\n';\n",
    "            return false;\n",
    "        }\n",
    "        catch (const std::runtime_error& e)\n",
    "        {\n",
    "            std::cerr << \"Cannot purchase \" << num_tickets << \" tickets for \"\n",
    "                      << event_name << '\\n';\n",
    "            std::cerr << e.what() << '\\n';\n",
    "            return false;\n",
    "        }\n",
    "    }\n",
    "    return false;\n",
    "}\n",
    "} // namespace isolated"
   ]
  },
  {
   "cell_type": "markdown",
   "id": "3dd0fde139fffb1d",
   "metadata": {
    "lang": "en",
    "lines_to_next_cell": 2,
    "slideshow": {
     "slide_type": "subslide"
    },
    "tags": [
     "subslide"
    ]
   },
   "source": [
    "\n",
    "### Isolation of `TicketOffice` for tests\n",
    "\n",
    "- Decouple from all dependencies\n",
    "- `EventMock` implementation for events"
   ]
  },
  {
   "cell_type": "code",
   "execution_count": null,
   "id": "26ed6ad9e9d5bc42",
   "metadata": {
    "slideshow": {
     "slide_type": "subslide"
    },
    "tags": [
     "keep",
     "subslide"
    ]
   },
   "outputs": [],
   "source": [
    "namespace isolated\n",
    "{\n",
    "class EventMock : public Event\n",
    "{\n",
    "public:\n",
    "    std::vector<int> purchase_args{};\n",
    "\n",
    "    std::string get_name() const override { return \"CppCon\"; }\n",
    "    int get_capacity() const override { return 90; }\n",
    "    void purchase(int num_tickets) override { purchase_args.push_back(num_tickets); }\n",
    "};\n",
    "} // namespace isolated"
   ]
  },
  {
   "cell_type": "code",
   "execution_count": null,
   "id": "92ea49d6fab63c14",
   "metadata": {
    "slideshow": {
     "slide_type": "subslide"
    },
    "tags": [
     "keep",
     "subslide"
    ]
   },
   "outputs": [],
   "source": [
    "namespace isolated\n",
    "{\n",
    "void test_purchase_tickets()\n",
    "{\n",
    "    TicketOffice ticket_office;\n",
    "    ticket_office.add_event(std::make_unique<EventMock>());\n",
    "\n",
    "    bool result{ticket_office.purchase_tickets(\"CppCon\", 10)};\n",
    "\n",
    "    check(result == true);\n",
    "    check(ticket_office.get_event(\"CppCon\").get_capacity() == 90);\n",
    "    check(\n",
    "        static_cast<EventMock&>(ticket_office.get_event(\"CppCon\")).purchase_args ==\n",
    "        std::vector<int>{10}\n",
    "    );\n",
    "}\n",
    "} // namespace isolated"
   ]
  },
  {
   "cell_type": "code",
   "execution_count": null,
   "id": "2e194195b9b7ffd6",
   "metadata": {},
   "outputs": [],
   "source": []
  },
  {
   "cell_type": "markdown",
   "id": "6602626f80a8cee5",
   "metadata": {
    "lang": "en",
    "slideshow": {
     "slide_type": "subslide"
    },
    "tags": [
     "subslide"
    ]
   },
   "source": [
    "\n",
    "## Advantages of isolating the tested unit\n",
    "\n",
    "- Simple structure of the tests\n",
    "  - Each test belongs to exactly one unit\n",
    "- Precise identification of errors\n",
    "- Breaking dependencies/the object graph"
   ]
  },
  {
   "cell_type": "markdown",
   "id": "b38f7c32da203b35",
   "metadata": {
    "lang": "en",
    "slideshow": {
     "slide_type": "subslide"
    },
    "tags": [
     "subslide"
    ]
   },
   "source": [
    "\n",
    "## Disadvantages of isolating the tested unit\n",
    "\n",
    "- Potentially higher effort (e.g. mocks)\n",
    "- Errors in the interaction between units are not found\n",
    "- Temptation to write \"interaction tests\"\n",
    "- **Risk of coupling to implementation details**"
   ]
  },
  {
   "cell_type": "markdown",
   "id": "e53afe1740bd0a92",
   "metadata": {
    "lang": "en",
    "slideshow": {
     "slide_type": "subslide"
    },
    "tags": [
     "subslide"
    ]
   },
   "source": [
    "\n",
    "## Recommendation\n",
    "\n",
    "- Use isolated unit tests (Detroit School)\n",
    "- Isolate dependencies that \"launch a rocket\"\n",
    "  - non-deterministic (e.g. random numbers, current time or date)\n",
    "  - slow\n",
    "  - external systems (e.g. database)\n",
    "- Isolate dependencies that require a complex setup"
   ]
  },
  {
   "cell_type": "markdown",
   "id": "ae93c24848e3640d",
   "metadata": {
    "lang": "en",
    "slideshow": {
     "slide_type": "subslide"
    },
    "tags": [
     "subslide"
    ]
   },
   "source": [
    "\n",
    "## Workshop: Virtual University\n",
    "\n",
    "- In the `code` folder you will find an implementation of a simple management\n",
    "  system for a university:\n",
    "- There are courses, professors who teach the courses, students who have to\n",
    "  work on and submit assignments.\n",
    "- The code can be found in `code/starter_kits/virtual_university`.\n",
    "- The `main.cpp` file illustrates how the classes work together and can be\n",
    "  used.\n",
    "- (This is not an example of particularly good software architecture, but it\n",
    "  shows well how the different testing strategies differ.)"
   ]
  },
  {
   "cell_type": "markdown",
   "id": "601613771c38a181",
   "metadata": {
    "lang": "en",
    "slideshow": {
     "slide_type": "subslide"
    },
    "tags": [
     "subslide"
    ]
   },
   "source": [
    "\n",
    "- Identify which classes and methods lead to the \"most valuable\" unit tests.\n",
    "- Implement these unit tests with Catch2.\n",
    "  - Ideally, implement tests for all classes that have meaningful tests.\n",
    "  - If you don't have enough time for that, you can also write tests for only\n",
    "    part of the code.\n",
    "  - The `Student` class is a pretty good starting point because it has very\n",
    "    limited functionality that you can cover with relatively few tests."
   ]
  },
  {
   "cell_type": "markdown",
   "id": "4cc2313fb6ec4e57",
   "metadata": {
    "lang": "en",
    "lines_to_next_cell": 2,
    "slideshow": {
     "slide_type": "subslide"
    },
    "tags": [
     "subslide"
    ]
   },
   "source": [
    "\n",
    "- Think about how you would need to rework the system to fully isolate the\n",
    "  classes in tests, i.e. to test in the London School style.\n",
    "  - (You don't actually have to implement this because it is quite\n",
    "    time-consuming, but it is a good exercise to compare the two styles.)"
   ]
  }
 ],
 "metadata": {
  "kernelspec": {
   "display_name": "C++17",
   "language": "C++17",
   "name": "xcpp17"
  },
  "language_info": {
   "codemirror_mode": "text/x-c++src",
   "file_extension": ".cpp",
   "mimetype": "text/x-c++src",
   "name": "c++",
   "version": "17"
  }
 },
 "nbformat": 4,
 "nbformat_minor": 5
}
