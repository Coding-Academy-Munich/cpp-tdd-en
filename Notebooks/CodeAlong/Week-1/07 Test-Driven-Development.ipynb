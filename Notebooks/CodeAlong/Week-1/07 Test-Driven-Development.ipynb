{
 "cells": [
  {
   "cell_type": "markdown",
   "id": "794b7a643d6b09ed",
   "metadata": {
    "lang": "en",
    "slideshow": {
     "slide_type": "slide"
    },
    "tags": [
     "slide"
    ]
   },
   "source": [
    "\n",
    "<img src=\"data:image/png;base64,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\"\n",
    "     style=\"display:block;margin:auto;width:5%\"/>\n",
    "<br>\n",
    "\n",
    "<div style=\"text-align:center; font-size:200%;\">\n",
    "  <b>Test-Driven-Development</b>\n",
    "</div>\n",
    "<br/>\n",
    "<div style=\"text-align:center; font-size:120%;\">Dr. Matthias Hölzl</div>\n",
    "<br/>\n",
    "<div style=\"text-align:center;\">Coding-Academy Munich</div>\n",
    "<br/>\n",
    "<!-- 07 Test-Driven-Development.ipynb -->\n",
    "<!-- slides/module_410_unit_testing/topic_170_test_driven_development.cpp -->\n",
    "\n"
   ]
  },
  {
   "cell_type": "markdown",
   "id": "b1ada30f1676b44d",
   "metadata": {
    "lang": "en",
    "slideshow": {
     "slide_type": "subslide"
    },
    "tags": [
     "subslide"
    ]
   },
   "source": [
    "\n",
    "## Idea\n",
    "\n",
    "- Use tests to drive the design and feature development of the program\n",
    "- Each new test describes a feature increment of the program\n",
    "- (Good testable code is created as a by-product)"
   ]
  },
  {
   "cell_type": "markdown",
   "id": "e07edcd02f4f8ccd",
   "metadata": {
    "lang": "en",
    "slideshow": {
     "slide_type": "subslide"
    },
    "tags": [
     "subslide"
    ]
   },
   "source": [
    "\n",
    "## Problem\n",
    "\n",
    "How can tests drive the design of the program?"
   ]
  },
  {
   "cell_type": "markdown",
   "id": "f8f50cfe8b03df53",
   "metadata": {
    "lang": "en",
    "slideshow": {
     "slide_type": "subslide"
    },
    "tags": [
     "subslide"
    ]
   },
   "source": [
    "\n",
    "## Possible answers\n",
    "\n",
    "- Tests use the functionality and therefore highlight clumsy interfaces\n",
    "- Tests enable refactoring"
   ]
  },
  {
   "cell_type": "markdown",
   "id": "02a3236944898aed",
   "metadata": {
    "lang": "en",
    "slideshow": {
     "slide_type": "subslide"
    },
    "tags": [
     "subslide"
    ]
   },
   "source": [
    "\n",
    "## Refactoring\n",
    "\n",
    "- Improve the code structure without changing the behavior\n",
    "  - Proceed in small steps\n",
    "  - After each step, the code is executable again\n",
    "- Objectives:\n",
    "  - Improve the code\n",
    "  - Improve the design"
   ]
  },
  {
   "cell_type": "markdown",
   "id": "4f430fda9dd2df38",
   "metadata": {
    "lang": "en",
    "slideshow": {
     "slide_type": "subslide"
    },
    "tags": [
     "subslide"
    ]
   },
   "source": [
    "\n",
    "## Refactoring and Tests\n",
    "\n",
    "- Refactoring improves the design of the program in small steps\n",
    "- The correctness of these steps is verified by tests"
   ]
  },
  {
   "cell_type": "markdown",
   "id": "b80891c1af6abf27",
   "metadata": {
    "lang": "en",
    "slideshow": {
     "slide_type": "subslide"
    },
    "tags": [
     "subslide"
    ]
   },
   "source": [
    "\n",
    "## So what???\n",
    "\n",
    "<img src=\"img/dev-velocity.png\"\n",
    "     style=\"display:block;margin:auto;width:70%\"/>"
   ]
  },
  {
   "cell_type": "markdown",
   "id": "55a00866dbe7f87a",
   "metadata": {
    "lang": "en",
    "slideshow": {
     "slide_type": "subslide"
    },
    "tags": [
     "subslide"
    ]
   },
   "source": [
    "\n",
    "## Test-Driven Development\n",
    "\n",
    "- The goal of TDD is not primarily to achieve high test coverage\n",
    "- The goal of TDD is to discover a good design through testing\n",
    "  - When writing the tests, one tries to design the interfaces of classes and\n",
    "    functions in such a way that it is easy to use\n",
    "  - Because all essential parts of the program are protected by tests,\n",
    "    one can permanently adapt the design to the current feature set through\n",
    "    refactoring"
   ]
  },
  {
   "cell_type": "markdown",
   "id": "3265556ad231755f",
   "metadata": {
    "lang": "en",
    "slideshow": {
     "slide_type": "subslide"
    },
    "tags": [
     "subslide"
    ]
   },
   "source": [
    "\n",
    "## The TDD Cycle\n",
    "- Write a (minimal) test\n",
    "  - The test only tests one new (partial) feature: **Baby Steps**\n",
    "  - This test fails\n",
    "- Implement the minimal functionality to get the test to work\n",
    "  - You don't have to pay attention to clean code or good design\n",
    "  - But: **Solve Simply**\n",
    "- Improve the code\n",
    "  - Remove the dirty constructs introduced in the previous step\n",
    "  - Generalize the implementation if there is too much repetition\n",
    "  - **This step is not optional!!!**"
   ]
  },
  {
   "cell_type": "markdown",
   "id": "e787f1a607d534f3",
   "metadata": {
    "lang": "en",
    "slideshow": {
     "slide_type": "subslide"
    },
    "tags": [
     "subslide"
    ]
   },
   "source": [
    "\n",
    "## The TDD cycle\n",
    "\n",
    "- <span style=\"color: red\"><b>Red (failing test)</b></span>\n",
    "- <span style=\"color: green\"><b>Green (all tests are green again)</b></span>\n",
    "- <span style=\"color: blue\"><b>Clean/Refactor (the code is clean again)</b></span>"
   ]
  },
  {
   "cell_type": "markdown",
   "id": "e2b2525e77f2dae4",
   "metadata": {
    "lang": "en",
    "slideshow": {
     "slide_type": "subslide"
    },
    "tags": [
     "subslide"
    ]
   },
   "source": [
    "\n",
    "## Baby steps\n",
    "\n",
    "- The system does not spend hours or days in a state in which it is not buildable,\n",
    "  testable or executable\n",
    "- This allows you to quickly get feedback from the code with every change\n",
    "- Frequent merging and CI becomes possible"
   ]
  },
  {
   "cell_type": "markdown",
   "id": "cbad39eb94ea99fe",
   "metadata": {
    "lang": "en",
    "slideshow": {
     "slide_type": "subslide"
    },
    "tags": [
     "subslide"
    ]
   },
   "source": [
    "\n",
    "## Why Solve Simply?\n",
    "\n",
    "- A flexible, generic solution often increases the complexity of the system\n",
    "- It is only worthwhile if the flexibility is actually needed\n",
    "- Developers usually have a hard time predicting where flexibility/extensibility is\n",
    "  needed\n",
    "- A flexible, generic solution is often much more difficult to implement than\n",
    "  a simple solution for a more specific use case\n",
    "- The most obvious flexible, generic solution is often not the cleanest and\n",
    "  most maintainable code"
   ]
  },
  {
   "cell_type": "markdown",
   "id": "b4543a357c35b277",
   "metadata": {
    "lang": "en",
    "slideshow": {
     "slide_type": "subslide"
    },
    "tags": [
     "subslide"
    ]
   },
   "source": [
    "\n",
    "## Assumptions of Solve Simply\n",
    "- It is possible to refactor code into a clean, maintainable state without changing\n",
    "  functionality\n",
    "- It is possible to extend code iteratively and make it more flexible when needed\n",
    "- It is easier to carry out the refactoring and iteration steps than to develop\n",
    "  the final solution right away\n",
    "- These assumptions are only fulfilled if a sufficient number of good unit tests\n",
    "  are available"
   ]
  },
  {
   "cell_type": "markdown",
   "id": "2d5eb9331b779319",
   "metadata": {
    "lang": "en",
    "slideshow": {
     "slide_type": "subslide"
    },
    "tags": [
     "subslide"
    ]
   },
   "source": [
    "\n",
    "## Even better: TDD + preparation step\n",
    "\n",
    "- Refactor the code so that the change becomes easy\n",
    "  - This is often not that easy...\n",
    "  - If during the refactoring it becomes clear that tests are missing, they are added\n",
    "- Do the easy change with the TDD cycle\n",
    "- Repeat these steps over and over again"
   ]
  },
  {
   "cell_type": "markdown",
   "id": "0d21441f13ea1ac3",
   "metadata": {
    "lang": "en",
    "lines_to_next_cell": 2,
    "slideshow": {
     "slide_type": "subslide"
    },
    "tags": [
     "subslide"
    ]
   },
   "source": [
    "\n",
    "## Guided Kata: Prime Factor Decomposition\n",
    "\n",
    "- An exercise in TDD that shows how tests can be used to lead to a simple\n",
    "  implementation of an algorithm\n",
    "- The important thing is the procedure: Tests should drive the design\n",
    "- Goal: Learn to work incrementally and iteratively!"
   ]
  },
  {
   "cell_type": "markdown",
   "id": "76dc829692ce4e73",
   "metadata": {
    "lang": "en",
    "slideshow": {
     "slide_type": "subslide"
    },
    "tags": [
     "subslide"
    ]
   },
   "source": [
    "\n",
    "## Guided Kata: Prime factorization\n",
    "\n",
    "Write a function\n",
    "\n",
    "```cpp\n",
    "void compute_and_write_primes(long n);\n",
    "```\n",
    "that outputs the prime factors of n in ascending order on the screen.\n",
    "\n",
    "Prime factors that occur multiple times are included multiple times in the\n",
    "output.\n",
    "\n",
    "You can use the program skeleton `code/starter_kits/prime_factors_sk` for\n",
    "this."
   ]
  },
  {
   "cell_type": "markdown",
   "id": "f14c7f797dabecee",
   "metadata": {
    "lang": "en",
    "slideshow": {
     "slide_type": "subslide"
    },
    "tags": [
     "subslide"
    ]
   },
   "source": [
    "\n",
    "## Kata: FizzBuzz\n",
    "\n",
    "Write a function\n",
    "```cpp\n",
    "void fizz_buzz(int n);\n",
    "```\n",
    "that outputs the numbers from 1 to `n` on the screen but\n",
    "\n",
    "- replaces any number divisible by 3 with `fizz`\n",
    "- replaces every number divisible by 5 with `buzz`\n",
    "- replaces every number divisible by 3 and 5 with `FizzBuzz`\n",
    "\n",
    "For example, `fizz_buzz(16)` should produce the following output:\n",
    "\n",
    "```plaintext\n",
    "1\n",
    "2\n",
    "Fizz\n",
    "4\n",
    "Buzz\n",
    "Fizz\n",
    "7\n",
    "8\n",
    "Fizz\n",
    "Buzz\n",
    "11\n",
    "Fizz\n",
    "13\n",
    "14\n",
    "FizzBuzz\n",
    "16\n",
    "```"
   ]
  }
 ],
 "metadata": {
  "kernelspec": {
   "display_name": "C++17",
   "language": "C++17",
   "name": "xcpp17"
  },
  "language_info": {
   "codemirror_mode": "text/x-c++src",
   "file_extension": ".cpp",
   "mimetype": "text/x-c++src",
   "name": "c++",
   "version": "17"
  }
 },
 "nbformat": 4,
 "nbformat_minor": 5
}
