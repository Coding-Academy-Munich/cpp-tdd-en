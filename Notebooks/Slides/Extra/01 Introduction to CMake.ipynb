{
 "cells": [
  {
   "cell_type": "markdown",
   "id": "539de1809ad8e84a",
   "metadata": {
    "lang": "en",
    "lines_to_next_cell": 2,
    "slideshow": {
     "slide_type": "slide"
    },
    "tags": [
     "slide"
    ]
   },
   "source": [
    "\n",
    "<img src=\"data:image/png;base64,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\"\n",
    "     style=\"display:block;margin:auto;width:5%\"/>\n",
    "<br>\n",
    "\n",
    "<div style=\"text-align:center; font-size:200%;\">\n",
    "  <b>Introduction to CMake</b>\n",
    "</div>\n",
    "<br/>\n",
    "<div style=\"text-align:center; font-size:120%;\">Dr. Matthias Hölzl</div>\n",
    "<br/>\n",
    "<div style=\"text-align:center;\">Coding-Academy Munich</div>\n",
    "<br/>\n",
    "<!-- 01 Introduction to CMake.ipynb -->\n",
    "<!-- slides/module_600_build/topic_100_cmake_intro.cpp -->"
   ]
  },
  {
   "cell_type": "markdown",
   "id": "42977c5a7dc61138",
   "metadata": {
    "lang": "en",
    "slideshow": {
     "slide_type": "subslide"
    },
    "tags": [
     "subslide"
    ]
   },
   "source": [
    "\n",
    "# What is CMake?\n",
    "\n",
    "- Meta-Build-System\n",
    "  - Generates build systems\n",
    "- Test and installation support\n",
    "- Platform independent\n",
    "- Open Source"
   ]
  },
  {
   "cell_type": "markdown",
   "id": "0ff540c942fd6051",
   "metadata": {
    "lines_to_next_cell": 2,
    "slideshow": {
     "slide_type": "subslide"
    },
    "tags": [
     "subslide"
    ]
   },
   "source": [
    "\n",
    "<img src=\"img/cmake-overview.png\"\n",
    "     style=\"display:block;margin:auto;width:50%\"/>"
   ]
  },
  {
   "cell_type": "markdown",
   "id": "e99f6ac73a71755e",
   "metadata": {
    "slideshow": {
     "slide_type": "subslide"
    },
    "tags": [
     "subslide"
    ]
   },
   "source": [
    "\n",
    "<img src=\"img/cmake-workflow.png\"\n",
    "     style=\"display:block;margin:auto;width:90%\"/>"
   ]
  },
  {
   "cell_type": "markdown",
   "id": "ec0d483936d96e90",
   "metadata": {
    "lang": "en",
    "slideshow": {
     "slide_type": "subslide"
    },
    "tags": [
     "subslide"
    ]
   },
   "source": [
    "\n",
    "## `CMakeLists.txt`\n",
    "\n",
    "- Main file\n",
    "- Describes the project\n",
    "- Contains commands for CMake\n",
    "- Defines the source directory"
   ]
  },
  {
   "cell_type": "markdown",
   "id": "8f88da60082957f0",
   "metadata": {
    "lang": "en",
    "slideshow": {
     "slide_type": "subslide"
    },
    "tags": [
     "subslide"
    ]
   },
   "source": [
    "\n",
    "## The CMake Process\n",
    "\n",
    "- Based on the `CMakeLists.txt` a build system is generated\n",
    "- The build system is used to compile the project\n",
    "- Typically, a directory for the build artifacts is created\n",
    "- The build system is generated in this directory\n",
    "- The build directory should be separate from the source directory\n",
    "  (\"out-of-source build\")\n",
    "- `CMakeCache.txt` in the build directory contains configuration information"
   ]
  },
  {
   "cell_type": "markdown",
   "id": "6ed1e6767b7438b4",
   "metadata": {
    "lang": "en",
    "slideshow": {
     "slide_type": "subslide"
    },
    "tags": [
     "subslide"
    ]
   },
   "source": [
    "\n",
    "## CMake Demo V0.1\n",
    "\n",
    "```cmake\n",
    "cmake_minimum_required(VERSION 3.27)\n",
    "project(cmake_demo)\n",
    "\n",
    "set(CMAKE_CXX_STANDARD 20)\n",
    "\n",
    "add_executable(say_hello say_hello.cpp)\n",
    "```"
   ]
  },
  {
   "cell_type": "markdown",
   "id": "c7fcd5efdcd2c79d",
   "metadata": {
    "lang": "en",
    "slideshow": {
     "slide_type": "subslide"
    },
    "tags": [
     "subslide"
    ]
   },
   "source": [
    "\n",
    "- `cmake_minimum_required(VERSION 3.27)` specifies the minimum CMake version\n",
    "- `project(cmake_demo)` sets the project name\n",
    "- `set(CMAKE_CXX_STANDARD 20)` sets the C++ standard\n",
    "- `add_executable(say_hello say_hello.cpp)` adds an executable\n",
    "  - `say_hello` is the name of the executable\n",
    "  - `say_hello.cpp` is the source file"
   ]
  },
  {
   "cell_type": "markdown",
   "id": "067ed766319ffe81",
   "metadata": {
    "lang": "en",
    "slideshow": {
     "slide_type": "subslide"
    },
    "tags": [
     "subslide"
    ]
   },
   "source": [
    "\n",
    "### Building the Project\n",
    "\n",
    "```bash\n",
    "mkdir build\n",
    "cd build\n",
    "cmake ..\n",
    "cmake --build .\n",
    "```"
   ]
  },
  {
   "cell_type": "markdown",
   "id": "22444a4471dd2edc",
   "metadata": {
    "lang": "en",
    "slideshow": {
     "slide_type": "subslide"
    },
    "tags": [
     "subslide"
    ]
   },
   "source": [
    "\n",
    "- CMake builds should be done in a separate directory\n",
    "- `cmake ..` generates the build system\n",
    "- `cmake --build .` compiles the project\n",
    "- This allows us to use the same commands regardless of how we want to\n",
    "  compile the project"
   ]
  },
  {
   "cell_type": "markdown",
   "id": "78f873ced5d72535",
   "metadata": {
    "lang": "en",
    "slideshow": {
     "slide_type": "subslide"
    },
    "tags": [
     "subslide"
    ]
   },
   "source": [
    "\n",
    "- The `CMakeLists.txt` file defines how the project is compiled\n",
    "- The first line specifies which CMake version is required\n",
    "- In version 0.1 of the project, we specified version 3.27 or higher\n",
    "- This is a relatively new version that may not be installed on your system\n",
    "- CMake makes it easy to install the latest version locally without affecting\n",
    "  the system\n",
    "- For the example, in v0.2 the `CMakeLists.txt` file is changed so that only\n",
    "  version 3.21 is required"
   ]
  },
  {
   "cell_type": "markdown",
   "id": "4243927090a5ac38",
   "metadata": {
    "lang": "en",
    "slideshow": {
     "slide_type": "subslide"
    },
    "tags": [
     "subslide"
    ]
   },
   "source": [
    "\n",
    "- A CMake project can have multiple targets\n",
    "- A target can be an executable, a library, or a custom rule\n",
    "- With `cmake --build . --target <target>` we can compile a specific target\n",
    "\n",
    "```bash\n",
    "cmake --build . --target say_hello\n",
    "```"
   ]
  },
  {
   "cell_type": "markdown",
   "id": "a42487eb68d9d8e3",
   "metadata": {
    "lang": "en",
    "slideshow": {
     "slide_type": "subslide"
    },
    "tags": [
     "subslide"
    ]
   },
   "source": [
    "\n",
    "### Multi-Config Generators\n",
    "\n",
    "- Generate projects that support multiple configurations\n",
    "- For example, Debug and Release\n",
    "- Visual Studio and Xcode are multi-config generators\n",
    "- You can select a configuration with `cmake --build . --config Release` or\n",
    "  `Debug`"
   ]
  },
  {
   "cell_type": "markdown",
   "id": "f38d92c98998615d",
   "metadata": {
    "lang": "en",
    "slideshow": {
     "slide_type": "subslide"
    },
    "tags": [
     "subslide"
    ]
   },
   "source": [
    "\n",
    "- How does CMake decide which build system to generate?\n",
    "- This is determined by the selected generator\n",
    "- Which generators are available depends on the platform\n",
    "- We can find out with `cmake --help`\n",
    "- With `cmake -G` we can specify the generator explicitly"
   ]
  },
  {
   "cell_type": "markdown",
   "id": "9328036a4f66e824",
   "metadata": {
    "lang": "en",
    "lines_to_next_cell": 2,
    "slideshow": {
     "slide_type": "subslide"
    },
    "tags": [
     "subslide"
    ]
   },
   "source": [
    "\n",
    "### Building the Project with Ninja\n",
    "\n",
    "If you have Ninja installed and are still in the `build` directory:\n",
    "\n",
    "```bash\n",
    "mkdir ../build-ninja\n",
    "cd ../build-ninja\n",
    "cmake -G \"Ninja\" ..\n",
    "cmake --build .\n",
    "```"
   ]
  },
  {
   "cell_type": "markdown",
   "id": "32e0421509ed37aa",
   "metadata": {
    "lang": "en",
    "slideshow": {
     "slide_type": "subslide"
    },
    "tags": [
     "subslide"
    ]
   },
   "source": [
    "\n",
    "### Commands in `CMakeLists.txt`\n",
    "\n",
    "- `cmake_minimum_required(VERSION 3.21)` specifies the minimum CMake version\n",
    "- `project(cmake_demo)` sets the project name\n",
    "   - `VERSION` can be used to specify a version number\n",
    "   - `LANGUAGES` can be used to specify the supported languages\n",
    "- `set(CMAKE_CXX_STANDARD 20)` sets the C++ standard\n",
    "  - This is an example of a variable being set\n",
    "- `add_executable(say_hello say_hello.cpp)` adds an executable"
   ]
  },
  {
   "cell_type": "markdown",
   "id": "59e885428ae0be90",
   "metadata": {
    "lang": "en",
    "slideshow": {
     "slide_type": "subslide"
    },
    "tags": [
     "subslide"
    ]
   },
   "source": [
    "\n",
    "## Version 0.3: Multiple Targets\n",
    "\n",
    "- In this version, we added a second executable target\n",
    "- Now we can choose between the targets with `cmake --build . --target <target>`\n",
    "- By default, all targets are compiled"
   ]
  },
  {
   "cell_type": "markdown",
   "id": "e2a0199987be016e",
   "metadata": {
    "lang": "en",
    "slideshow": {
     "slide_type": "subslide"
    },
    "tags": [
     "subslide"
    ]
   },
   "source": [
    "\n",
    "## Version 0.4: `TodoList` Class\n",
    "\n",
    "- In this version, we added a `TodoList` class\n",
    "- We added it directly to the `todo_list` executable\n",
    "- This is not a good idea for several reasons\n",
    "  - We cannot use the class in other targets\n",
    "  - The `CMakeLists.txt` file becomes cluttered\n",
    "  - We cannot test the class"
   ]
  },
  {
   "cell_type": "markdown",
   "id": "508cb0236f95cec5",
   "metadata": {
    "lang": "en",
    "slideshow": {
     "slide_type": "subslide"
    },
    "tags": [
     "subslide"
    ]
   },
   "source": [
    "\n",
    "## Version 0.5: Library\n",
    "\n",
    "- In this version, we moved the `TodoList` class to a library\n",
    "- We added the library to the `todo_list` executable\n",
    "- Now we can use the library in other targets\n",
    "- We made sure that we can link the library both statically and dynamically\n",
    "- We can test this by setting the `BUILD_SHARED_LIBS` variable when generating\n",
    "  the build system"
   ]
  },
  {
   "cell_type": "markdown",
   "id": "5d78494b17d5f409",
   "metadata": {
    "lang": "en",
    "slideshow": {
     "slide_type": "subslide"
    },
    "tags": [
     "subslide"
    ]
   },
   "source": [
    "\n",
    "```bash\n",
    "cmake -DBUILD_SHARED_LIBS=ON .. # or OFF\n",
    "cmake --build . --clean-first\n",
    "```"
   ]
  },
  {
   "cell_type": "markdown",
   "id": "0071f0c2f91c6249",
   "metadata": {
    "lang": "en",
    "lines_to_next_cell": 2,
    "slideshow": {
     "slide_type": "subslide"
    },
    "tags": [
     "subslide"
    ]
   },
   "source": [
    "\n",
    "On Windows, you can use the following command to find the dynamically linked\n",
    "libraries:\n",
    "\n",
    "```powershell\n",
    "dumpbin.exe /DEPENDENTS .\\Debug\\todo_list.exe\n",
    "```\n",
    "\n",
    "On Linux\n",
    "\n",
    "```bash\n",
    "ldd ./todo_list\n",
    "```"
   ]
  },
  {
   "cell_type": "markdown",
   "id": "fb8f0301eca640ab",
   "metadata": {
    "lang": "en",
    "slideshow": {
     "slide_type": "subslide"
    },
    "tags": [
     "subslide"
    ]
   },
   "source": [
    "\n",
    "- In this version, we moved the source files to subdirectories\n",
    "- With `add_subdirectory` we can add subdirectories\n",
    "- With `target_include_directories` we can set the include paths for a target"
   ]
  }
 ],
 "metadata": {
  "kernelspec": {
   "display_name": "C++17",
   "language": "C++17",
   "name": "xcpp17"
  },
  "language_info": {
   "codemirror_mode": "text/x-c++src",
   "file_extension": ".cpp",
   "mimetype": "text/x-c++src",
   "name": "c++",
   "version": "17"
  }
 },
 "nbformat": 4,
 "nbformat_minor": 5
}
